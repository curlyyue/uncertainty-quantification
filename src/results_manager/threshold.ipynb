{
 "cells": [
  {
   "cell_type": "code",
   "execution_count": 1,
   "metadata": {},
   "outputs": [
    {
     "name": "stderr",
     "output_type": "stream",
     "text": [
      "/nfs/homedirs/zhz/anaconda3/envs/postnet/lib/python3.10/site-packages/tqdm/auto.py:22: TqdmWarning: IProgress not found. Please update jupyter and ipywidgets. See https://ipywidgets.readthedocs.io/en/stable/user_install.html\n",
      "  from .autonotebook import tqdm as notebook_tqdm\n"
     ]
    }
   ],
   "source": [
    "import sys\n",
    "sys.path.append('../')\n",
    "sys.path.append('../../')\n",
    "from src.posterior_networks.PosteriorNetwork import PosteriorNetwork\n",
    "import json\n",
    "import numpy as np\n",
    "import pandas as pd\n",
    "import wandb\n",
    "from dataset_manager.ClassificationDataset import MapillaryDataset\n",
    "from src.results_manager.metrics_prior import confidence, brier_score, anomaly_detection\n",
    "import torch\n",
    "import torchvision.transforms as transforms\n",
    "from sklearn.metrics import balanced_accuracy_score\n",
    "import matplotlib.pyplot as plt\n",
    "from src.posterior_networks.config import config\n",
    "import os\n",
    "os.environ[\"KMP_DUPLICATE_LIB_OK\"]=\"TRUE\"\n"
   ]
  },
  {
   "cell_type": "code",
   "execution_count": 2,
   "metadata": {},
   "outputs": [
    {
     "name": "stdout",
     "output_type": "stream",
     "text": [
      "tensor([ 7134,  3854, 22059, 10828])\n"
     ]
    },
    {
     "name": "stderr",
     "output_type": "stream",
     "text": [
      "Using cache found in /nfs/homedirs/zhz/.cache/torch/hub/pytorch_vision_main\n"
     ]
    }
   ],
   "source": [
    "train_df = pd.read_csv('/lab/project-1/train_label.csv')\n",
    "val_df = pd.read_csv('/lab/project-1/val_label.csv')\n",
    "test_df = pd.read_csv('/lab/project-1/test_label.csv')\n",
    "regions = set(['g1', 'g2', 'g3', 'g4', 'g5', 'g6'])\n",
    "classes = set(['regu', 'warn', 'comp', 'info'])\n",
    "full_path = '/lab/project-1/models/effnets_oodg5_lat8_reg1e4_dens6_batch64_lr1e4_'\n",
    "\n",
    "config = json.load(open(f'{full_path}/config.json'))\n",
    "\n",
    "# full_df = pd.concat([train_df, val_df, test_df])\n",
    "full_df = pd.concat([test_df])\n",
    "\n",
    "if 'class_encoding' in config: \n",
    "    class_encoding = config['class_encoding']\n",
    "else:\n",
    "    class_encoding = {c: i for i, c in enumerate(sorted(train_df.label.unique()))}\n",
    "\n",
    "full_df['label_encoded'] = full_df.label.map(class_encoding)\n",
    "if \"N\" in config:\n",
    "    N = config['N']\n",
    "else:\n",
    "    N = train_df.label_encoded.value_counts().sort_index().values\n",
    "N = torch.tensor(N)\n",
    "\n",
    "print(N)\n",
    "\n",
    "model = PosteriorNetwork(N=N,\n",
    "                         n_classes=config['num_classes'],\n",
    "                         hidden_dims=config['hidden_dims'],\n",
    "                         kernel_dim=None,\n",
    "                         latent_dim=config['latent_dim'],\n",
    "                         architecture=config['architecture'],\n",
    "                         k_lipschitz=config['k_lipschitz'],\n",
    "                         no_density=config['no_density'],\n",
    "                         density_type=config['density_type'],\n",
    "                         n_density=config['n_density'],\n",
    "                         budget_function=config['budget_function'],\n",
    "                         batch_size=config['batch_size'],\n",
    "                         lr=config['lr'],\n",
    "                         loss=config['loss'],\n",
    "                         dropout=config['dropout'],\n",
    "                         regr=config['regr'],\n",
    "                         seed=config['seed'])\n",
    "\n",
    "# model.load_state_dict(torch.load(f'{full_path}/best_model.pth')['model_state_dict'])\n",
    "model.cuda()\n",
    "transform_val_test = transforms.Compose([\n",
    "    transforms.ToTensor(),\n",
    "    transforms.Normalize([0.485, 0.456, 0.406], [0.229, 0.224, 0.225])])\n",
    "full_dataset = MapillaryDataset(full_df, transform = transform_val_test)\n",
    "\n",
    "# use a dict to map ground truth vector of ID and OOD\n",
    "ood_regions_classes = set(config['ood_regions'].split(','))\n",
    "ood_regions = ood_regions_classes.intersection(regions)\n",
    "ood_classes = ood_regions_classes.intersection(classes)\n",
    "\n",
    "grd_truth = torch.tensor(full_df.region.isin(ood_regions).astype(int).values) # 0 as ID, 1 as OOD"
   ]
  },
  {
   "cell_type": "code",
   "execution_count": 3,
   "metadata": {},
   "outputs": [],
   "source": [
    "# if error in model loading:\n",
    "dict = torch.load(f'{full_path}/best_model.pth')['model_state_dict']\n",
    "older_val = dict['sequential.4.weight']\n",
    "dict['sequential.5.weight'] = dict.pop('sequential.4.weight')\n",
    "older_val = dict['sequential.4.bias']\n",
    "dict['sequential.5.bias'] = dict.pop('sequential.4.bias')\n",
    "torch.save(full_path,'./model_changed.pth')"
   ]
  },
  {
   "cell_type": "code",
   "execution_count": 4,
   "metadata": {},
   "outputs": [
    {
     "data": {
      "text/plain": [
       "<All keys matched successfully>"
      ]
     },
     "execution_count": 4,
     "metadata": {},
     "output_type": "execute_result"
    }
   ],
   "source": [
    "model.load_state_dict(dict)"
   ]
  },
  {
   "cell_type": "code",
   "execution_count": 5,
   "metadata": {},
   "outputs": [],
   "source": [
    "full_loader = torch.utils.data.DataLoader(full_dataset,\n",
    "                                                      batch_size=8,\n",
    "                                                      num_workers=6, pin_memory=True)\n",
    "model.eval()\n",
    "\n",
    "def compute_X_Y_alpha(model, loader, alpha_only=False):\n",
    "    model.cpu()\n",
    "    for batch_index, (X, Y) in enumerate(loader):\n",
    "        X, Y = X.to('cpu'), Y.to('cpu')\n",
    "        alpha_pred = model(X, None, return_output='alpha', compute_loss=False)\n",
    "        if batch_index == 0:\n",
    "            X_duplicate_all = X.to(\"cpu\")\n",
    "            orig_Y_all = Y.to(\"cpu\")\n",
    "            alpha_pred_all = alpha_pred.to(\"cpu\")\n",
    "        else:\n",
    "            X_duplicate_all = torch.cat([X_duplicate_all, X.to(\"cpu\")], dim=0)\n",
    "            orig_Y_all = torch.cat([orig_Y_all, Y.to(\"cpu\")], dim=0)\n",
    "            alpha_pred_all = torch.cat([alpha_pred_all, alpha_pred.to(\"cpu\")], dim=0)\n",
    "    if alpha_only:\n",
    "        return alpha_pred_all\n",
    "    else:\n",
    "        return orig_Y_all, X_duplicate_all, alpha_pred_all\n",
    "\n",
    "orig_Y_all, X_duplicate_all, alpha_pred_all = compute_X_Y_alpha(model, full_loader)"
   ]
  },
  {
   "cell_type": "code",
   "execution_count": 6,
   "metadata": {},
   "outputs": [
    {
     "name": "stdout",
     "output_type": "stream",
     "text": [
      "aleatoric score: [0.25       0.99897187 0.99771863 ... 0.99688177 0.90225964 0.99745776]\n",
      "epistemic score: [1.00000000e+00 1.05100199e+05 3.82447518e+04 ... 3.11658711e+04\n",
      " 2.73575512e+03 3.06025324e+04]\n"
     ]
    }
   ],
   "source": [
    "# scores\n",
    "corrects = (orig_Y_all.squeeze() == alpha_pred_all.max(-1)[1]).type(torch.DoubleTensor)\n",
    "# print(corrects)\n",
    "p=torch.nn.functional.normalize(alpha_pred_all, p=1, dim=-1)\n",
    "scores_aleatoric = p.max(-1)[0].cpu().detach().numpy()\n",
    "print('aleatoric score:',scores_aleatoric)\n",
    "scores_epistemic = alpha_pred_all.max(-1)[0].cpu().detach().numpy()\n",
    "print('epistemic score:',scores_epistemic)"
   ]
  },
  {
   "cell_type": "code",
   "execution_count": 10,
   "metadata": {},
   "outputs": [
    {
     "name": "stdout",
     "output_type": "stream",
     "text": [
      "threshold:500.0, balanced accuracy:0.4977211332333004, accuracy:0.8244\n",
      "threshold:897.9591836734694, balanced accuracy:0.49780594062442945, accuracy:0.8178\n",
      "threshold:1295.9183673469388, balanced accuracy:0.49738391407057436, accuracy:0.8132\n",
      "threshold:1693.8775510204082, balanced accuracy:0.4970659107016301, accuracy:0.8096\n",
      "threshold:2091.8367346938776, balanced accuracy:0.49864480577435866, accuracy:0.805\n",
      "threshold:2489.795918367347, balanced accuracy:0.4986538157213794, accuracy:0.798\n",
      "threshold:2887.7551020408164, balanced accuracy:0.4982863513298296, accuracy:0.7866\n",
      "threshold:3285.714285714286, balanced accuracy:0.5054878637459432, accuracy:0.7714\n",
      "threshold:3683.673469387755, balanced accuracy:0.5065411984694496, accuracy:0.7658\n",
      "threshold:4081.6326530612246, balanced accuracy:0.5070556368137332, accuracy:0.7656\n",
      "threshold:4479.591836734694, balanced accuracy:0.5076104594252746, accuracy:0.7658\n",
      "threshold:4877.551020408164, balanced accuracy:0.5080146698493495, accuracy:0.7646\n",
      "threshold:5275.510204081633, balanced accuracy:0.5085225583682056, accuracy:0.7644\n",
      "threshold:5673.469387755102, balanced accuracy:0.5084365029183101, accuracy:0.7636\n",
      "threshold:6071.428571428572, balanced accuracy:0.5088981028401572, accuracy:0.763\n",
      "threshold:6469.387755102041, balanced accuracy:0.508790224298523, accuracy:0.762\n",
      "threshold:6867.34693877551, balanced accuracy:0.5092047783858017, accuracy:0.761\n",
      "threshold:7265.306122448979, balanced accuracy:0.5089899685421775, accuracy:0.759\n",
      "threshold:7663.265306122449, balanced accuracy:0.5098715767775436, accuracy:0.7576\n",
      "threshold:8061.224489795919, balanced accuracy:0.5105456192544131, accuracy:0.7544\n",
      "threshold:8459.183673469388, balanced accuracy:0.5112715261582272, accuracy:0.7518\n",
      "threshold:8857.142857142857, balanced accuracy:0.5109258007838897, accuracy:0.7486\n",
      "threshold:9255.102040816328, balanced accuracy:0.5119784673728075, accuracy:0.7446\n",
      "threshold:9653.061224489797, balanced accuracy:0.5114965911258406, accuracy:0.7354\n",
      "threshold:10051.020408163266, balanced accuracy:0.5132588132366638, accuracy:0.725\n",
      "threshold:10448.979591836734, balanced accuracy:0.5130448581344227, accuracy:0.709\n",
      "threshold:10846.938775510203, balanced accuracy:0.5129914737328436, accuracy:0.6894\n",
      "threshold:11244.897959183674, balanced accuracy:0.5111746724110191, accuracy:0.6628\n",
      "threshold:11642.857142857143, balanced accuracy:0.5124273993799733, accuracy:0.6422\n",
      "threshold:12040.816326530612, balanced accuracy:0.5135401059648665, accuracy:0.6252\n",
      "threshold:12438.775510204083, balanced accuracy:0.5135674006444684, accuracy:0.6148\n",
      "threshold:12836.734693877552, balanced accuracy:0.5137856242186093, accuracy:0.6124\n",
      "threshold:13234.69387755102, balanced accuracy:0.5137284450597873, accuracy:0.6116\n",
      "threshold:13632.65306122449, balanced accuracy:0.5140750572775452, accuracy:0.611\n",
      "threshold:14030.612244897959, balanced accuracy:0.5139609632512141, accuracy:0.6094\n",
      "threshold:14428.57142857143, balanced accuracy:0.513861629784348, accuracy:0.608\n",
      "threshold:14826.530612244898, balanced accuracy:0.5137486671581781, accuracy:0.6064\n",
      "threshold:15224.489795918367, balanced accuracy:0.5135803256938393, accuracy:0.604\n",
      "threshold:15622.448979591838, balanced accuracy:0.5134827264239029, accuracy:0.6026\n",
      "threshold:16020.408163265307, balanced accuracy:0.5136890567037626, accuracy:0.6\n",
      "threshold:16418.367346938776, balanced accuracy:0.5138954638774945, accuracy:0.5974\n",
      "threshold:16816.326530612245, balanced accuracy:0.5141981448848835, accuracy:0.5962\n",
      "threshold:17214.285714285714, balanced accuracy:0.5144729336841104, accuracy:0.5946\n",
      "threshold:17612.244897959183, balanced accuracy:0.5142406155970995, accuracy:0.5912\n",
      "threshold:18010.204081632655, balanced accuracy:0.5140915830583147, accuracy:0.589\n",
      "threshold:18408.163265306124, balanced accuracy:0.513743212710594, accuracy:0.5838\n",
      "threshold:18806.122448979593, balanced accuracy:0.5135182804465069, accuracy:0.5804\n",
      "threshold:19204.081632653062, balanced accuracy:0.5131524794152659, accuracy:0.5748\n",
      "threshold:19602.04081632653, balanced accuracy:0.512856150950751, accuracy:0.5702\n",
      "threshold:20000.0, balanced accuracy:0.5123742638229883, accuracy:0.5626\n",
      "###\n",
      "threshold:17214.285714285714, balanced accuracy:0.5144729336841104, accuracy:0.5946\n"
     ]
    }
   ],
   "source": [
    "# use maximum of alpha as threshold\n",
    "# torch.concat(torch.max(alpha_pred_all, dim=1).values, grd_truth)\n",
    "from sklearn.metrics import balanced_accuracy_score\n",
    "from sklearn.metrics import accuracy_score\n",
    "max_alpha = torch.max(alpha_pred_all, dim=1).values\n",
    "output = [[],[],[]]\n",
    "for threshold in np.linspace(500, 20000,50):\n",
    "    pred = (torch.max(alpha_pred_all, dim=1).values < threshold).int()\n",
    "    acc = balanced_accuracy_score(pred, grd_truth)\n",
    "    acc2 = accuracy_score(pred, grd_truth)\n",
    "    output[0].append(threshold)\n",
    "    output[1].append(acc)\n",
    "    output[2].append(acc2)\n",
    "    print(f'threshold:{threshold}, balanced accuracy:{acc}, accuracy:{acc2}')\n",
    "\n",
    "index = output[1].index(max(output[1]))\n",
    "print(\"###\")\n",
    "print(f'threshold:{output[0][index]}, balanced accuracy:{output[1][index]}, accuracy:{output[2][index]}')"
   ]
  },
  {
   "cell_type": "code",
   "execution_count": 18,
   "metadata": {},
   "outputs": [
    {
     "data": {
      "text/plain": [
       "tensor([1, 0, 1,  ..., 0, 0, 0])"
      ]
     },
     "execution_count": 18,
     "metadata": {},
     "output_type": "execute_result"
    }
   ],
   "source": [
    "# to see the table\n",
    "threshold  = output[0][index]\n",
    "pred = (torch.max(alpha_pred_all, dim=1).values < threshold).int()\n",
    "grd_truth"
   ]
  },
  {
   "cell_type": "code",
   "execution_count": 19,
   "metadata": {},
   "outputs": [
    {
     "data": {
      "text/plain": [
       "57580"
      ]
     },
     "execution_count": 19,
     "metadata": {},
     "output_type": "execute_result"
    }
   ],
   "source": [
    "len(grd_truth)"
   ]
  },
  {
   "cell_type": "code",
   "execution_count": null,
   "metadata": {},
   "outputs": [],
   "source": []
  },
  {
   "cell_type": "code",
   "execution_count": 24,
   "metadata": {},
   "outputs": [
    {
     "name": "stdout",
     "output_type": "stream",
     "text": [
      "threshold:0.9975853106212426, balanced accuracy:0.515490877497828, accuracy:0.8367315039944425\n"
     ]
    },
    {
     "name": "stderr",
     "output_type": "stream",
     "text": [
      "/nfs/homedirs/zhz/anaconda3/envs/postnet/lib/python3.10/site-packages/sklearn/metrics/_classification.py:2006: UserWarning: y_pred contains classes not in y_true\n",
      "  warnings.warn(\"y_pred contains classes not in y_true\")\n",
      "/nfs/homedirs/zhz/anaconda3/envs/postnet/lib/python3.10/site-packages/sklearn/metrics/_classification.py:2006: UserWarning: y_pred contains classes not in y_true\n",
      "  warnings.warn(\"y_pred contains classes not in y_true\")\n",
      "/nfs/homedirs/zhz/anaconda3/envs/postnet/lib/python3.10/site-packages/sklearn/metrics/_classification.py:2006: UserWarning: y_pred contains classes not in y_true\n",
      "  warnings.warn(\"y_pred contains classes not in y_true\")\n",
      "/nfs/homedirs/zhz/anaconda3/envs/postnet/lib/python3.10/site-packages/sklearn/metrics/_classification.py:2006: UserWarning: y_pred contains classes not in y_true\n",
      "  warnings.warn(\"y_pred contains classes not in y_true\")\n"
     ]
    }
   ],
   "source": [
    "# use normalized alpha\n",
    "p = torch.nn.functional.normalize(alpha_pred_all, p=1, dim=-1)\n",
    "scores = p.max(-1)[0].cpu().detach().numpy()\n",
    "output = [[],[],[]]\n",
    "for threshold in np.linspace(0.8,0.99999,50):\n",
    "    pred = (scores < threshold).astype(int)\n",
    "    acc = balanced_accuracy_score(pred, grd_truth)\n",
    "    accuracy_score(pred, grd_truth)\n",
    "    output[0].append(threshold)\n",
    "    output[1].append(acc)\n",
    "    output[2].append(acc2)\n",
    "    # print(f'threshold:{threshold}, balanced accuracy:{acc}, accuracy:{acc2}')\n",
    "\n",
    "index = output[1].index(max(output[1]))\n",
    "print(f'threshold:{output[0][index]}, balanced accuracy:{output[1][index]}, accuracy:{output[2][index]}')"
   ]
  },
  {
   "cell_type": "code",
   "execution_count": 8,
   "metadata": {},
   "outputs": [
    {
     "data": {
      "text/plain": [
       "tensor([0, 0, 0,  ..., 0, 0, 1])"
      ]
     },
     "execution_count": 8,
     "metadata": {},
     "output_type": "execute_result"
    }
   ],
   "source": [
    "grd_truth"
   ]
  },
  {
   "cell_type": "code",
   "execution_count": 29,
   "metadata": {},
   "outputs": [
    {
     "name": "stdout",
     "output_type": "stream",
     "text": [
      "threshold:10448.979591836734, balanced accuracy:0.5156217144459242, accuracy:0.8367315039944425\n"
     ]
    },
    {
     "name": "stderr",
     "output_type": "stream",
     "text": [
      "/nfs/homedirs/zhz/anaconda3/envs/postnet/lib/python3.10/site-packages/sklearn/metrics/_classification.py:2006: UserWarning: y_pred contains classes not in y_true\n",
      "  warnings.warn(\"y_pred contains classes not in y_true\")\n",
      "/nfs/homedirs/zhz/anaconda3/envs/postnet/lib/python3.10/site-packages/sklearn/metrics/_classification.py:2006: UserWarning: y_pred contains classes not in y_true\n",
      "  warnings.warn(\"y_pred contains classes not in y_true\")\n",
      "/nfs/homedirs/zhz/anaconda3/envs/postnet/lib/python3.10/site-packages/sklearn/metrics/_classification.py:2006: UserWarning: y_pred contains classes not in y_true\n",
      "  warnings.warn(\"y_pred contains classes not in y_true\")\n",
      "/nfs/homedirs/zhz/anaconda3/envs/postnet/lib/python3.10/site-packages/sklearn/metrics/_classification.py:2006: UserWarning: y_pred contains classes not in y_true\n",
      "  warnings.warn(\"y_pred contains classes not in y_true\")\n",
      "/nfs/homedirs/zhz/anaconda3/envs/postnet/lib/python3.10/site-packages/sklearn/metrics/_classification.py:2006: UserWarning: y_pred contains classes not in y_true\n",
      "  warnings.warn(\"y_pred contains classes not in y_true\")\n",
      "/nfs/homedirs/zhz/anaconda3/envs/postnet/lib/python3.10/site-packages/sklearn/metrics/_classification.py:2006: UserWarning: y_pred contains classes not in y_true\n",
      "  warnings.warn(\"y_pred contains classes not in y_true\")\n",
      "/nfs/homedirs/zhz/anaconda3/envs/postnet/lib/python3.10/site-packages/sklearn/metrics/_classification.py:2006: UserWarning: y_pred contains classes not in y_true\n",
      "  warnings.warn(\"y_pred contains classes not in y_true\")\n",
      "/nfs/homedirs/zhz/anaconda3/envs/postnet/lib/python3.10/site-packages/sklearn/metrics/_classification.py:2006: UserWarning: y_pred contains classes not in y_true\n",
      "  warnings.warn(\"y_pred contains classes not in y_true\")\n",
      "/nfs/homedirs/zhz/anaconda3/envs/postnet/lib/python3.10/site-packages/sklearn/metrics/_classification.py:2006: UserWarning: y_pred contains classes not in y_true\n",
      "  warnings.warn(\"y_pred contains classes not in y_true\")\n",
      "/nfs/homedirs/zhz/anaconda3/envs/postnet/lib/python3.10/site-packages/sklearn/metrics/_classification.py:2006: UserWarning: y_pred contains classes not in y_true\n",
      "  warnings.warn(\"y_pred contains classes not in y_true\")\n"
     ]
    }
   ],
   "source": [
    "# use sum of alpha - minimum\n",
    "min_alpha = torch.min(alpha_pred_all, dim=1).values\n",
    "scores = torch.sum(alpha_pred_all,dim=1)-4*min_alpha\n",
    "output = [[],[],[]]\n",
    "for threshold in np.linspace(2000,20000,50):\n",
    "    pred = (scores < threshold).int()\n",
    "    acc = balanced_accuracy_score(pred, grd_truth)\n",
    "    accuracy_score(pred, grd_truth)\n",
    "    output[0].append(threshold)\n",
    "    output[1].append(acc)\n",
    "    output[2].append(acc2)\n",
    "    # print(f'threshold:{threshold}, balanced accuracy:{acc}, accuracy:{acc2}')\n",
    "# print(pred)\n",
    "index = output[1].index(max(output[1]))\n",
    "print(f'threshold:{output[0][index]}, balanced accuracy:{output[1][index]}, accuracy:{output[2][index]}')"
   ]
  },
  {
   "cell_type": "code",
   "execution_count": null,
   "metadata": {},
   "outputs": [],
   "source": []
  }
 ],
 "metadata": {
  "kernelspec": {
   "display_name": "postnet",
   "language": "python",
   "name": "python3"
  },
  "language_info": {
   "codemirror_mode": {
    "name": "ipython",
    "version": 3
   },
   "file_extension": ".py",
   "mimetype": "text/x-python",
   "name": "python",
   "nbconvert_exporter": "python",
   "pygments_lexer": "ipython3",
   "version": "3.10.8"
  },
  "orig_nbformat": 4,
  "vscode": {
   "interpreter": {
    "hash": "10ba92b1b2dd91cfc055dbd32954eae032a9ab425a70a2bf53189e576ddb11ac"
   }
  }
 },
 "nbformat": 4,
 "nbformat_minor": 2
}
