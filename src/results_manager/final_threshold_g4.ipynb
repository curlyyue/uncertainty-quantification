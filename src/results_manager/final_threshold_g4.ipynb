{
 "cells": [
  {
   "cell_type": "code",
   "execution_count": null,
   "metadata": {},
   "outputs": [],
   "source": [
    "# !pip install pyro-ppl==1.3.1"
   ]
  },
  {
   "cell_type": "code",
   "execution_count": 1,
   "metadata": {},
   "outputs": [
    {
     "name": "stderr",
     "output_type": "stream",
     "text": [
      "/nfs/homedirs/zhz/anaconda3/envs/postnet/lib/python3.10/site-packages/tqdm/auto.py:22: TqdmWarning: IProgress not found. Please update jupyter and ipywidgets. See https://ipywidgets.readthedocs.io/en/stable/user_install.html\n",
      "  from .autonotebook import tqdm as notebook_tqdm\n"
     ]
    }
   ],
   "source": [
    "import sys\n",
    "sys.path.append('../')\n",
    "sys.path.append('../../')\n",
    "from src.posterior_networks.PosteriorNetwork import PosteriorNetwork\n",
    "import json\n",
    "import numpy as np\n",
    "import pandas as pd\n",
    "import wandb\n",
    "from dataset_manager.ClassificationDataset import MapillaryDataset\n",
    "from src.results_manager.metrics_prior import confidence, brier_score, anomaly_detection\n",
    "import torch\n",
    "import torchvision.transforms as transforms\n",
    "from sklearn.metrics import balanced_accuracy_score\n",
    "import matplotlib.pyplot as plt\n",
    "from src.posterior_networks.config import config\n",
    "import os\n",
    "os.environ[\"KMP_DUPLICATE_LIB_OK\"]=\"TRUE\""
   ]
  },
  {
   "cell_type": "code",
   "execution_count": 2,
   "metadata": {},
   "outputs": [
    {
     "name": "stdout",
     "output_type": "stream",
     "text": [
      "tensor([ 7458,  3970, 21210,  9894])\n"
     ]
    },
    {
     "name": "stderr",
     "output_type": "stream",
     "text": [
      "Using cache found in /nfs/homedirs/zhz/.cache/torch/hub/pytorch_vision_main\n"
     ]
    }
   ],
   "source": [
    "# train_df = pd.read_csv('/lab/project-1/train_label.csv')\n",
    "val_df = pd.read_csv('/lab/project-1/val_label.csv')\n",
    "test_df = pd.read_csv('/lab/project-1/test_label.csv')\n",
    "regions = set(['g1', 'g2', 'g3', 'g4', 'g5', 'g6'])\n",
    "classes = set(['regu', 'warn', 'comp', 'info'])\n",
    "full_path = '/lab/project-1/final_models/effnet_oodg4_lat8_reg1e4_dens6_batch64_lr1e4__'\n",
    "# full_path = '../../src/posterior_networks/models/resnet18_oodg3g4_RandAug_ops3_mag3_bins31'\n",
    "\n",
    "config = json.load(open(f'{full_path}/config.json'))\n",
    "\n",
    "\n",
    "# if 'class_encoding' in config: \n",
    "#     class_encoding = config['class_encoding']\n",
    "# else:\n",
    "#     class_encoding = {c: i for i, c in enumerate(sorted(train_df.label.unique()))}\n",
    "\n",
    "if \"N\" in config:\n",
    "    N = config['N']\n",
    "else:\n",
    "    N = train_df.label_encoded.value_counts().sort_index().values\n",
    "N = torch.tensor(N)\n",
    "\n",
    "print(N)\n",
    "\n",
    "model = PosteriorNetwork(N=N,\n",
    "                         n_classes=config['num_classes'],\n",
    "                         hidden_dims=config['hidden_dims'],\n",
    "                         kernel_dim=None,\n",
    "                         latent_dim=config['latent_dim'],\n",
    "                         architecture=config['architecture'],\n",
    "                         k_lipschitz=config['k_lipschitz'],\n",
    "                         no_density=config['no_density'],\n",
    "                         density_type=config['density_type'],\n",
    "                         n_density=config['n_density'],\n",
    "                         budget_function=config['budget_function'],\n",
    "                         batch_size=config['batch_size'],\n",
    "                         lr=config['lr'],\n",
    "                         loss=config['loss'],\n",
    "                         dropout=config['dropout'],\n",
    "                         regr=config['regr'],\n",
    "                         seed=config['seed'])\n",
    "\n",
    "model.load_state_dict(torch.load(f'{full_path}/best_model.pth')['model_state_dict'])\n",
    "model.cuda()\n",
    "transform_val_test = transforms.Compose([\n",
    "    transforms.ToTensor(),\n",
    "    transforms.Normalize([0.485, 0.456, 0.406], [0.229, 0.224, 0.225])])\n",
    "\n",
    "val_dataset = MapillaryDataset(val_df, transform = transform_val_test)\n",
    "\n",
    "# use a dict to map ground truth vector of ID and OOD\n",
    "ood_regions_classes = set(config['ood_regions'].split(','))\n",
    "ood_regions = ood_regions_classes.intersection(regions)\n",
    "ood_classes = ood_regions_classes.intersection(classes)\n",
    "\n",
    "grd_truth = torch.tensor(val_df.region.isin(ood_regions).astype(int).values) # 0 as ID, 1 as OOD"
   ]
  },
  {
   "cell_type": "code",
   "execution_count": 3,
   "metadata": {},
   "outputs": [
    {
     "data": {
      "text/plain": [
       "'iaf_flow'"
      ]
     },
     "execution_count": 3,
     "metadata": {},
     "output_type": "execute_result"
    }
   ],
   "source": [
    "config['density_type']"
   ]
  },
  {
   "cell_type": "code",
   "execution_count": 3,
   "metadata": {},
   "outputs": [
    {
     "data": {
      "text/plain": [
       "<All keys matched successfully>"
      ]
     },
     "execution_count": 3,
     "metadata": {},
     "output_type": "execute_result"
    }
   ],
   "source": [
    "# # if error in model loading:\n",
    "# dict = torch.load(f'{full_path}/best_model.pth')['model_state_dict']\n",
    "# older_val = dict['sequential.11.weight']\n",
    "# dict['sequential.12.weight'] = dict.pop('sequential.11.weight')\n",
    "# older_val = dict['sequential.11.bias']\n",
    "# dict['sequential.12.bias'] = dict.pop('sequential.11.bias')\n",
    "# torch.save(full_path,'./model_changed.pth')\n",
    "# model.load_state_dict(dict)"
   ]
  },
  {
   "cell_type": "code",
   "execution_count": 3,
   "metadata": {},
   "outputs": [],
   "source": [
    "def compute_X_Y_alpha(model, loader, alpha_only=False):\n",
    "    model.cpu()\n",
    "    for batch_index, (X, Y) in enumerate(loader):\n",
    "        X, Y = X.to('cpu'), Y.to('cpu')\n",
    "        alpha_pred = model(X, None, return_output='alpha', compute_loss=False)\n",
    "        # print('batch:', batch_index)\n",
    "        if batch_index == 0:\n",
    "            X_duplicate_all = X.to(\"cpu\")\n",
    "            orig_Y_all = Y.to(\"cpu\")\n",
    "            alpha_pred_all = alpha_pred.to(\"cpu\")\n",
    "        else:\n",
    "            X_duplicate_all = torch.cat([X_duplicate_all, X.to(\"cpu\")], dim=0)\n",
    "            orig_Y_all = torch.cat([orig_Y_all, Y.to(\"cpu\")], dim=0)\n",
    "            alpha_pred_all = torch.cat([alpha_pred_all, alpha_pred.to(\"cpu\")], dim=0)\n",
    "    if alpha_only:\n",
    "        return alpha_pred_all\n",
    "    else:\n",
    "        return orig_Y_all, X_duplicate_all, alpha_pred_all"
   ]
  },
  {
   "cell_type": "code",
   "execution_count": null,
   "metadata": {},
   "outputs": [],
   "source": [
    "# find a threshold for g4 in val, and then test it on testset\n",
    "val_loader = torch.utils.data.DataLoader(val_dataset, batch_size=8, num_workers=6, pin_memory=True)\n",
    "model.eval()\n",
    "val_orig_Y_all, val_X_duplicate_all, val_alpha_pred_all = compute_X_Y_alpha(model, val_loader)"
   ]
  },
  {
   "cell_type": "code",
   "execution_count": 5,
   "metadata": {},
   "outputs": [
    {
     "name": "stdout",
     "output_type": "stream",
     "text": [
      "tensor([[1.0000e+00, 1.0000e+00, 1.0000e+00, 1.0000e+00],\n",
      "        [4.7568e+03, 1.0014e+00, 1.0057e+00, 1.0010e+00],\n",
      "        [3.4225e+03, 1.3950e+00, 1.3448e+00, 1.0047e+00],\n",
      "        ...,\n",
      "        [1.0000e+00, 1.0000e+00, 1.0000e+00, 1.0000e+00],\n",
      "        [1.0000e+00, 1.0869e+00, 1.1966e+04, 1.0000e+00],\n",
      "        [3.8787e+03, 1.0104e+00, 1.0010e+00, 1.0939e+00]],\n",
      "       grad_fn=<CatBackward0>)\n"
     ]
    }
   ],
   "source": [
    "print(val_alpha_pred_all)"
   ]
  },
  {
   "cell_type": "code",
   "execution_count": 6,
   "metadata": {},
   "outputs": [],
   "source": [
    "def true_false_table(grd_truth, pred):\n",
    "    table = [[[] for i in range(2)] for i in range(2)] # \n",
    "    for i in range(len(grd_truth)):\n",
    "        if grd_truth[i] == 1:\n",
    "            if pred[i] == 1: # True positive\n",
    "                table[0][0].append(i)\n",
    "            elif pred[i] == 0: # False negative\n",
    "                table[0][1].append(i)\n",
    "            else:\n",
    "                KeyError('wrong number')\n",
    "        elif grd_truth[i] == 0:\n",
    "            if pred[i] == 1: # False positive\n",
    "                table[1][0].append(i)\n",
    "            elif pred[i] == 0: # True negative\n",
    "                table[1][1].append(i)\n",
    "            else:\n",
    "                KeyError('wrong number')\n",
    "        else:\n",
    "            KeyError('wrong number')\n",
    "    return table"
   ]
  },
  {
   "cell_type": "code",
   "execution_count": 7,
   "metadata": {},
   "outputs": [
    {
     "name": "stdout",
     "output_type": "stream",
     "text": [
      "###\n",
      "threshold:2363.6363636363635, balanced accuracy:0.6407944662103946, accuracy:0.7613371694752706, area under curve:0.6407944662103945\n",
      "TP: 226\n",
      "FN: 223\n",
      "FP: 1519\n",
      "TN 5331\n"
     ]
    }
   ],
   "source": [
    "# use maximum of alpha as threshold\n",
    "# torch.concat(torch.max(alpha_pred_all, dim=1).values, grd_truth)\n",
    "from sklearn.metrics import balanced_accuracy_score, accuracy_score, roc_auc_score\n",
    "max_alpha = torch.max(val_alpha_pred_all, dim=1).values\n",
    "output = [[],[],[],[]]\n",
    "for threshold in np.linspace(5000,10000,100):\n",
    "    pred = (torch.max(val_alpha_pred_all, dim=1).values < threshold).int()\n",
    "    acc = balanced_accuracy_score(grd_truth, pred)\n",
    "    acc2 = accuracy_score(grd_truth, pred)\n",
    "    auc = roc_auc_score(grd_truth, pred)\n",
    "    output[0].append(threshold)\n",
    "    output[1].append(acc)\n",
    "    output[2].append(acc2)\n",
    "    output[3].append(auc)\n",
    "\n",
    "index = output[1].index(max(output[1]))\n",
    "print(\"###\")\n",
    "print(f'threshold:{output[0][index]}, balanced accuracy:{output[1][index]}, accuracy:{output[2][index]}, area under curve:{output[3][index]}')\n",
    "\n",
    "pred = (torch.max(val_alpha_pred_all, dim=1).values < output[0][index]).int()\n",
    "table = true_false_table(grd_truth, pred)\n",
    "print('TP:',len(table[0][0]))\n",
    "print('FN:',len(table[0][1]))\n",
    "print('FP:',len(table[1][0]))\n",
    "print('TN',len(table[1][1]))"
   ]
  },
  {
   "cell_type": "code",
   "execution_count": 5,
   "metadata": {},
   "outputs": [],
   "source": [
    "# see the performance on the test set\n",
    "test_dataset = MapillaryDataset(test_df, transform = transform_val_test)\n",
    "test_grd_truth = torch.tensor(test_df.region.isin(ood_regions).astype(int).values) # 0 as ID, 1 as OOD\n",
    "test_loader = torch.utils.data.DataLoader(test_dataset, batch_size=8, num_workers=6, pin_memory=True)\n",
    "model.eval()\n",
    "test_orig_Y_all, test_X_duplicate_all, test_alpha_pred_all = compute_X_Y_alpha(model, test_loader)"
   ]
  },
  {
   "cell_type": "code",
   "execution_count": 9,
   "metadata": {},
   "outputs": [
    {
     "name": "stdout",
     "output_type": "stream",
     "text": [
      "threshold:2353.53, balanced accuracy:0.6288994420271095, accuracy:0.7634, area under curve:0.6288994420271095\n",
      "TP: 146\n",
      "FN: 161\n",
      "FP: 1022\n",
      "TN 3671\n"
     ]
    }
   ],
   "source": [
    "# using max alpha as threshold, use data from ood_g4\n",
    "from sklearn.metrics import balanced_accuracy_score, accuracy_score, roc_auc_score\n",
    "threshold = 2353.53\n",
    "max_alpha = torch.max(test_alpha_pred_all, dim=1).values\n",
    "pred = (torch.max(test_alpha_pred_all, dim=1).values < threshold).int()\n",
    "balanced_accuracy = balanced_accuracy_score(test_grd_truth, pred)\n",
    "accuracy = accuracy_score(test_grd_truth, pred)\n",
    "auc = roc_auc_score(test_grd_truth, pred)\n",
    "print(f'threshold:{threshold}, balanced accuracy:{balanced_accuracy}, accuracy:{accuracy}, area under curve:{auc}')\n",
    "\n",
    "table = true_false_table(test_grd_truth, pred)\n",
    "print('TP:',len(table[0][0]))\n",
    "print('FN:',len(table[0][1]))\n",
    "print('FP:',len(table[1][0]))\n",
    "print('TN',len(table[1][1]))"
   ]
  },
  {
   "cell_type": "code",
   "execution_count": null,
   "metadata": {},
   "outputs": [],
   "source": [
    "other_df = pd.read_csv('/lab/project-1/train_other_signs.csv').iloc[:5000]\n",
    "test_df_less = pd.read_csv('/lab/project-1/test_label.csv').iloc[:2500]\n",
    "full_df = pd.concat([test_df_less,other_df])\n",
    "mix_sign_dataset = MapillaryDataset(full_df, transform = transform_val_test)\n",
    "grd_truth1 = torch.tensor(test_df_less.region.isin(ood_regions).astype(int).values) # 0 as ID, 1 as OOD\n",
    "grd_truth2 = torch.ones(500)\n",
    "mix_grd_truth = torch.cat([grd_truth1, grd_truth2])\n",
    "mix_sign_loader = torch.utils.data.DataLoader(mix_sign_dataset,\n",
    "                                                      batch_size=32,\n",
    "                                                      num_workers=6, pin_memory=True)\n",
    "mix_orig_Y_all, mix_X_duplicate_all, mix_alpha_pred_all = compute_X_Y_alpha(model, mix_sign_loader)"
   ]
  },
  {
   "cell_type": "code",
   "execution_count": 7,
   "metadata": {},
   "outputs": [
    {
     "name": "stdout",
     "output_type": "stream",
     "text": [
      "threshold:2353.53, balanced accuracy:0.5, accuracy:0.6933333333333334, area under curve:0.5\n",
      "TP: 520\n",
      "FN: 0\n",
      "FP: 230\n",
      "TN 0\n"
     ]
    }
   ],
   "source": [
    "# using max alpha as threshold, use data from ood_g4\n",
    "from sklearn.metrics import balanced_accuracy_score, accuracy_score, roc_auc_score\n",
    "threshold = 2353.53\n",
    "max_alpha = torch.max(mix_alpha_pred_all, dim=1).values\n",
    "pred = (torch.max(mix_alpha_pred_all, dim=1).values < threshold).int()\n",
    "balanced_accuracy = balanced_accuracy_score(mix_grd_truth, pred)\n",
    "accuracy = accuracy_score(mix_grd_truth, pred)\n",
    "auc = roc_auc_score(mix_grd_truth, pred)\n",
    "print(f'threshold:{threshold}, balanced accuracy:{balanced_accuracy}, accuracy:{accuracy}, area under curve:{auc}')\n",
    "\n",
    "table = true_false_table(mix_grd_truth, pred)\n",
    "print('TP:',len(table[0][0]))\n",
    "print('FN:',len(table[0][1]))\n",
    "print('FP:',len(table[1][0]))\n",
    "print('TN',len(table[1][1]))"
   ]
  },
  {
   "cell_type": "code",
   "execution_count": 8,
   "metadata": {},
   "outputs": [
    {
     "data": {
      "text/plain": [
       "tensor([[  1.0000,   1.0000,   1.0000,   1.0000],\n",
       "        [  1.0000,   1.0000,   1.0000,   1.0000],\n",
       "        [  1.0000,  21.3668, 404.6893,   1.0000],\n",
       "        ...,\n",
       "        [  2.2015,   1.1654,  69.9019,   1.0609],\n",
       "        [  1.5390,   1.7932, 160.9585,   1.1464],\n",
       "        [  1.3093,   3.1040, 393.3994,   1.0831]], grad_fn=<CatBackward0>)"
      ]
     },
     "execution_count": 8,
     "metadata": {},
     "output_type": "execute_result"
    }
   ],
   "source": [
    "mix_alpha_pred_all"
   ]
  },
  {
   "cell_type": "code",
   "execution_count": 46,
   "metadata": {},
   "outputs": [
    {
     "name": "stdout",
     "output_type": "stream",
     "text": [
      "threshold:13666.67, balanced accuracy:0.7494, accuracy:0.7494, area under curve:0.6786896243291592\n",
      "TP: 3747\n",
      "FN: 1253\n",
      "FP: 0\n",
      "TN 0\n"
     ]
    },
    {
     "name": "stderr",
     "output_type": "stream",
     "text": [
      "/nfs/homedirs/zhz/anaconda3/envs/postnet/lib/python3.10/site-packages/sklearn/metrics/_classification.py:2006: UserWarning: y_pred contains classes not in y_true\n",
      "  warnings.warn(\"y_pred contains classes not in y_true\")\n"
     ]
    }
   ],
   "source": [
    "other_alpha = mix_alpha_pred_all[-5000:]\n",
    "threshold = 13666.67\n",
    "max_alpha = torch.max(other_alpha, dim=1).values\n",
    "pred = (torch.max(other_alpha, dim=1).values < threshold).int()\n",
    "balanced_accuracy = balanced_accuracy_score(grd_truth2, pred)\n",
    "accuracy = accuracy_score(grd_truth2, pred)\n",
    "# auc = roc_auc_score(grd_truth2, pred)\n",
    "print(f'threshold:{threshold}, balanced accuracy:{balanced_accuracy}, accuracy:{accuracy}, area under curve:{auc}')\n",
    "\n",
    "table = true_false_table(grd_truth2, pred)\n",
    "print('TP:',len(table[0][0]))\n",
    "print('FN:',len(table[0][1]))\n",
    "print('FP:',len(table[1][0]))\n",
    "print('TN',len(table[1][1]))"
   ]
  }
 ],
 "metadata": {
  "kernelspec": {
   "display_name": "postnet",
   "language": "python",
   "name": "python3"
  },
  "language_info": {
   "codemirror_mode": {
    "name": "ipython",
    "version": 3
   },
   "file_extension": ".py",
   "mimetype": "text/x-python",
   "name": "python",
   "nbconvert_exporter": "python",
   "pygments_lexer": "ipython3",
   "version": "3.10.8"
  },
  "orig_nbformat": 4,
  "vscode": {
   "interpreter": {
    "hash": "10ba92b1b2dd91cfc055dbd32954eae032a9ab425a70a2bf53189e576ddb11ac"
   }
  }
 },
 "nbformat": 4,
 "nbformat_minor": 2
}
